{
 "cells": [
  {
   "cell_type": "code",
   "execution_count": 1,
   "id": "471ed717",
   "metadata": {},
   "outputs": [],
   "source": [
    "import pandas as pd\n",
    "import numpy as np\n",
    "import matplotlib.pyplot as plt\n",
    "import seaborn as sns"
   ]
  },
  {
   "cell_type": "code",
   "execution_count": 2,
   "id": "224fec9a",
   "metadata": {},
   "outputs": [],
   "source": [
    "data = pd.read_csv(r\"C:\\Users\\silpa\\Downloads\\googleplaystore new.csv\")"
   ]
  },
  {
   "cell_type": "code",
   "execution_count": 3,
   "id": "7c7fe4ff",
   "metadata": {},
   "outputs": [
    {
     "data": {
      "text/html": [
       "<div>\n",
       "<style scoped>\n",
       "    .dataframe tbody tr th:only-of-type {\n",
       "        vertical-align: middle;\n",
       "    }\n",
       "\n",
       "    .dataframe tbody tr th {\n",
       "        vertical-align: top;\n",
       "    }\n",
       "\n",
       "    .dataframe thead th {\n",
       "        text-align: right;\n",
       "    }\n",
       "</style>\n",
       "<table border=\"1\" class=\"dataframe\">\n",
       "  <thead>\n",
       "    <tr style=\"text-align: right;\">\n",
       "      <th></th>\n",
       "      <th>App</th>\n",
       "      <th>Category</th>\n",
       "      <th>Rating</th>\n",
       "      <th>Reviews</th>\n",
       "      <th>Size</th>\n",
       "      <th>Installs</th>\n",
       "      <th>Type</th>\n",
       "      <th>Price</th>\n",
       "      <th>Content Rating</th>\n",
       "      <th>Genres</th>\n",
       "      <th>Last Updated</th>\n",
       "      <th>Current Ver</th>\n",
       "      <th>Android Ver</th>\n",
       "    </tr>\n",
       "  </thead>\n",
       "  <tbody>\n",
       "    <tr>\n",
       "      <th>0</th>\n",
       "      <td>Photo Editor &amp; Candy Camera &amp; Grid &amp; ScrapBook</td>\n",
       "      <td>ART_AND_DESIGN</td>\n",
       "      <td>4.1</td>\n",
       "      <td>159</td>\n",
       "      <td>19M</td>\n",
       "      <td>10,000+</td>\n",
       "      <td>Free</td>\n",
       "      <td>0</td>\n",
       "      <td>Everyone</td>\n",
       "      <td>Art &amp; Design</td>\n",
       "      <td>January 7, 2018</td>\n",
       "      <td>1.0.0</td>\n",
       "      <td>4.0.3 and up</td>\n",
       "    </tr>\n",
       "    <tr>\n",
       "      <th>1</th>\n",
       "      <td>Coloring book moana</td>\n",
       "      <td>ART_AND_DESIGN</td>\n",
       "      <td>3.9</td>\n",
       "      <td>967</td>\n",
       "      <td>14M</td>\n",
       "      <td>500,000+</td>\n",
       "      <td>Free</td>\n",
       "      <td>0</td>\n",
       "      <td>Everyone</td>\n",
       "      <td>Art &amp; Design;Pretend Play</td>\n",
       "      <td>January 15, 2018</td>\n",
       "      <td>2.0.0</td>\n",
       "      <td>4.0.3 and up</td>\n",
       "    </tr>\n",
       "    <tr>\n",
       "      <th>2</th>\n",
       "      <td>U Launcher Lite – FREE Live Cool Themes, Hide ...</td>\n",
       "      <td>ART_AND_DESIGN</td>\n",
       "      <td>4.7</td>\n",
       "      <td>87510</td>\n",
       "      <td>8.7M</td>\n",
       "      <td>5,000,000+</td>\n",
       "      <td>Free</td>\n",
       "      <td>0</td>\n",
       "      <td>Everyone</td>\n",
       "      <td>Art &amp; Design</td>\n",
       "      <td>August 1, 2018</td>\n",
       "      <td>1.2.4</td>\n",
       "      <td>4.0.3 and up</td>\n",
       "    </tr>\n",
       "    <tr>\n",
       "      <th>3</th>\n",
       "      <td>Sketch - Draw &amp; Paint</td>\n",
       "      <td>ART_AND_DESIGN</td>\n",
       "      <td>4.5</td>\n",
       "      <td>215644</td>\n",
       "      <td>25M</td>\n",
       "      <td>50,000,000+</td>\n",
       "      <td>Free</td>\n",
       "      <td>0</td>\n",
       "      <td>Teen</td>\n",
       "      <td>Art &amp; Design</td>\n",
       "      <td>June 8, 2018</td>\n",
       "      <td>Varies with device</td>\n",
       "      <td>4.2 and up</td>\n",
       "    </tr>\n",
       "    <tr>\n",
       "      <th>4</th>\n",
       "      <td>Pixel Draw - Number Art Coloring Book</td>\n",
       "      <td>ART_AND_DESIGN</td>\n",
       "      <td>4.3</td>\n",
       "      <td>967</td>\n",
       "      <td>2.8M</td>\n",
       "      <td>100,000+</td>\n",
       "      <td>Free</td>\n",
       "      <td>0</td>\n",
       "      <td>Everyone</td>\n",
       "      <td>Art &amp; Design;Creativity</td>\n",
       "      <td>June 20, 2018</td>\n",
       "      <td>1.1</td>\n",
       "      <td>4.4 and up</td>\n",
       "    </tr>\n",
       "  </tbody>\n",
       "</table>\n",
       "</div>"
      ],
      "text/plain": [
       "                                                 App        Category  Rating  \\\n",
       "0     Photo Editor & Candy Camera & Grid & ScrapBook  ART_AND_DESIGN     4.1   \n",
       "1                                Coloring book moana  ART_AND_DESIGN     3.9   \n",
       "2  U Launcher Lite – FREE Live Cool Themes, Hide ...  ART_AND_DESIGN     4.7   \n",
       "3                              Sketch - Draw & Paint  ART_AND_DESIGN     4.5   \n",
       "4              Pixel Draw - Number Art Coloring Book  ART_AND_DESIGN     4.3   \n",
       "\n",
       "   Reviews  Size     Installs  Type Price Content Rating  \\\n",
       "0      159   19M      10,000+  Free     0       Everyone   \n",
       "1      967   14M     500,000+  Free     0       Everyone   \n",
       "2    87510  8.7M   5,000,000+  Free     0       Everyone   \n",
       "3   215644   25M  50,000,000+  Free     0           Teen   \n",
       "4      967  2.8M     100,000+  Free     0       Everyone   \n",
       "\n",
       "                      Genres      Last Updated         Current Ver  \\\n",
       "0               Art & Design   January 7, 2018               1.0.0   \n",
       "1  Art & Design;Pretend Play  January 15, 2018               2.0.0   \n",
       "2               Art & Design    August 1, 2018               1.2.4   \n",
       "3               Art & Design      June 8, 2018  Varies with device   \n",
       "4    Art & Design;Creativity     June 20, 2018                 1.1   \n",
       "\n",
       "    Android Ver  \n",
       "0  4.0.3 and up  \n",
       "1  4.0.3 and up  \n",
       "2  4.0.3 and up  \n",
       "3    4.2 and up  \n",
       "4    4.4 and up  "
      ]
     },
     "execution_count": 3,
     "metadata": {},
     "output_type": "execute_result"
    }
   ],
   "source": [
    "data.head()"
   ]
  },
  {
   "cell_type": "code",
   "execution_count": 4,
   "id": "ee8622ac",
   "metadata": {},
   "outputs": [],
   "source": [
    "data.drop(\"App\", axis=1, inplace=True)"
   ]
  },
  {
   "cell_type": "code",
   "execution_count": 5,
   "id": "e239dd1c",
   "metadata": {},
   "outputs": [
    {
     "data": {
      "text/html": [
       "<div>\n",
       "<style scoped>\n",
       "    .dataframe tbody tr th:only-of-type {\n",
       "        vertical-align: middle;\n",
       "    }\n",
       "\n",
       "    .dataframe tbody tr th {\n",
       "        vertical-align: top;\n",
       "    }\n",
       "\n",
       "    .dataframe thead th {\n",
       "        text-align: right;\n",
       "    }\n",
       "</style>\n",
       "<table border=\"1\" class=\"dataframe\">\n",
       "  <thead>\n",
       "    <tr style=\"text-align: right;\">\n",
       "      <th></th>\n",
       "      <th>Category</th>\n",
       "      <th>Rating</th>\n",
       "      <th>Reviews</th>\n",
       "      <th>Size</th>\n",
       "      <th>Installs</th>\n",
       "      <th>Type</th>\n",
       "      <th>Price</th>\n",
       "      <th>Content Rating</th>\n",
       "      <th>Genres</th>\n",
       "      <th>Last Updated</th>\n",
       "      <th>Current Ver</th>\n",
       "      <th>Android Ver</th>\n",
       "    </tr>\n",
       "  </thead>\n",
       "  <tbody>\n",
       "    <tr>\n",
       "      <th>0</th>\n",
       "      <td>ART_AND_DESIGN</td>\n",
       "      <td>4.1</td>\n",
       "      <td>159</td>\n",
       "      <td>19M</td>\n",
       "      <td>10,000+</td>\n",
       "      <td>Free</td>\n",
       "      <td>0</td>\n",
       "      <td>Everyone</td>\n",
       "      <td>Art &amp; Design</td>\n",
       "      <td>January 7, 2018</td>\n",
       "      <td>1.0.0</td>\n",
       "      <td>4.0.3 and up</td>\n",
       "    </tr>\n",
       "    <tr>\n",
       "      <th>1</th>\n",
       "      <td>ART_AND_DESIGN</td>\n",
       "      <td>3.9</td>\n",
       "      <td>967</td>\n",
       "      <td>14M</td>\n",
       "      <td>500,000+</td>\n",
       "      <td>Free</td>\n",
       "      <td>0</td>\n",
       "      <td>Everyone</td>\n",
       "      <td>Art &amp; Design;Pretend Play</td>\n",
       "      <td>January 15, 2018</td>\n",
       "      <td>2.0.0</td>\n",
       "      <td>4.0.3 and up</td>\n",
       "    </tr>\n",
       "    <tr>\n",
       "      <th>2</th>\n",
       "      <td>ART_AND_DESIGN</td>\n",
       "      <td>4.7</td>\n",
       "      <td>87510</td>\n",
       "      <td>8.7M</td>\n",
       "      <td>5,000,000+</td>\n",
       "      <td>Free</td>\n",
       "      <td>0</td>\n",
       "      <td>Everyone</td>\n",
       "      <td>Art &amp; Design</td>\n",
       "      <td>August 1, 2018</td>\n",
       "      <td>1.2.4</td>\n",
       "      <td>4.0.3 and up</td>\n",
       "    </tr>\n",
       "    <tr>\n",
       "      <th>3</th>\n",
       "      <td>ART_AND_DESIGN</td>\n",
       "      <td>4.5</td>\n",
       "      <td>215644</td>\n",
       "      <td>25M</td>\n",
       "      <td>50,000,000+</td>\n",
       "      <td>Free</td>\n",
       "      <td>0</td>\n",
       "      <td>Teen</td>\n",
       "      <td>Art &amp; Design</td>\n",
       "      <td>June 8, 2018</td>\n",
       "      <td>Varies with device</td>\n",
       "      <td>4.2 and up</td>\n",
       "    </tr>\n",
       "    <tr>\n",
       "      <th>4</th>\n",
       "      <td>ART_AND_DESIGN</td>\n",
       "      <td>4.3</td>\n",
       "      <td>967</td>\n",
       "      <td>2.8M</td>\n",
       "      <td>100,000+</td>\n",
       "      <td>Free</td>\n",
       "      <td>0</td>\n",
       "      <td>Everyone</td>\n",
       "      <td>Art &amp; Design;Creativity</td>\n",
       "      <td>June 20, 2018</td>\n",
       "      <td>1.1</td>\n",
       "      <td>4.4 and up</td>\n",
       "    </tr>\n",
       "  </tbody>\n",
       "</table>\n",
       "</div>"
      ],
      "text/plain": [
       "         Category  Rating  Reviews  Size     Installs  Type Price  \\\n",
       "0  ART_AND_DESIGN     4.1      159   19M      10,000+  Free     0   \n",
       "1  ART_AND_DESIGN     3.9      967   14M     500,000+  Free     0   \n",
       "2  ART_AND_DESIGN     4.7    87510  8.7M   5,000,000+  Free     0   \n",
       "3  ART_AND_DESIGN     4.5   215644   25M  50,000,000+  Free     0   \n",
       "4  ART_AND_DESIGN     4.3      967  2.8M     100,000+  Free     0   \n",
       "\n",
       "  Content Rating                     Genres      Last Updated  \\\n",
       "0       Everyone               Art & Design   January 7, 2018   \n",
       "1       Everyone  Art & Design;Pretend Play  January 15, 2018   \n",
       "2       Everyone               Art & Design    August 1, 2018   \n",
       "3           Teen               Art & Design      June 8, 2018   \n",
       "4       Everyone    Art & Design;Creativity     June 20, 2018   \n",
       "\n",
       "          Current Ver   Android Ver  \n",
       "0               1.0.0  4.0.3 and up  \n",
       "1               2.0.0  4.0.3 and up  \n",
       "2               1.2.4  4.0.3 and up  \n",
       "3  Varies with device    4.2 and up  \n",
       "4                 1.1    4.4 and up  "
      ]
     },
     "execution_count": 5,
     "metadata": {},
     "output_type": "execute_result"
    }
   ],
   "source": [
    "data.head()"
   ]
  },
  {
   "cell_type": "code",
   "execution_count": 6,
   "id": "5695401a",
   "metadata": {},
   "outputs": [
    {
     "data": {
      "text/plain": [
       "(10841, 12)"
      ]
     },
     "execution_count": 6,
     "metadata": {},
     "output_type": "execute_result"
    }
   ],
   "source": [
    "data.shape"
   ]
  },
  {
   "cell_type": "code",
   "execution_count": 7,
   "id": "51c94af3",
   "metadata": {},
   "outputs": [
    {
     "data": {
      "text/plain": [
       "Category           object\n",
       "Rating            float64\n",
       "Reviews             int64\n",
       "Size               object\n",
       "Installs           object\n",
       "Type               object\n",
       "Price              object\n",
       "Content Rating     object\n",
       "Genres             object\n",
       "Last Updated       object\n",
       "Current Ver        object\n",
       "Android Ver        object\n",
       "dtype: object"
      ]
     },
     "execution_count": 7,
     "metadata": {},
     "output_type": "execute_result"
    }
   ],
   "source": [
    "data.dtypes"
   ]
  },
  {
   "cell_type": "code",
   "execution_count": 8,
   "id": "371a8b80",
   "metadata": {},
   "outputs": [
    {
     "data": {
      "text/html": [
       "<div>\n",
       "<style scoped>\n",
       "    .dataframe tbody tr th:only-of-type {\n",
       "        vertical-align: middle;\n",
       "    }\n",
       "\n",
       "    .dataframe tbody tr th {\n",
       "        vertical-align: top;\n",
       "    }\n",
       "\n",
       "    .dataframe thead th {\n",
       "        text-align: right;\n",
       "    }\n",
       "</style>\n",
       "<table border=\"1\" class=\"dataframe\">\n",
       "  <thead>\n",
       "    <tr style=\"text-align: right;\">\n",
       "      <th></th>\n",
       "      <th>Rating</th>\n",
       "      <th>Reviews</th>\n",
       "    </tr>\n",
       "  </thead>\n",
       "  <tbody>\n",
       "    <tr>\n",
       "      <th>count</th>\n",
       "      <td>9367.000000</td>\n",
       "      <td>1.084100e+04</td>\n",
       "    </tr>\n",
       "    <tr>\n",
       "      <th>mean</th>\n",
       "      <td>4.191513</td>\n",
       "      <td>4.441119e+05</td>\n",
       "    </tr>\n",
       "    <tr>\n",
       "      <th>std</th>\n",
       "      <td>0.515735</td>\n",
       "      <td>2.927629e+06</td>\n",
       "    </tr>\n",
       "    <tr>\n",
       "      <th>min</th>\n",
       "      <td>1.000000</td>\n",
       "      <td>0.000000e+00</td>\n",
       "    </tr>\n",
       "    <tr>\n",
       "      <th>25%</th>\n",
       "      <td>4.000000</td>\n",
       "      <td>3.800000e+01</td>\n",
       "    </tr>\n",
       "    <tr>\n",
       "      <th>50%</th>\n",
       "      <td>4.300000</td>\n",
       "      <td>2.094000e+03</td>\n",
       "    </tr>\n",
       "    <tr>\n",
       "      <th>75%</th>\n",
       "      <td>4.500000</td>\n",
       "      <td>5.476800e+04</td>\n",
       "    </tr>\n",
       "    <tr>\n",
       "      <th>max</th>\n",
       "      <td>5.000000</td>\n",
       "      <td>7.815831e+07</td>\n",
       "    </tr>\n",
       "  </tbody>\n",
       "</table>\n",
       "</div>"
      ],
      "text/plain": [
       "            Rating       Reviews\n",
       "count  9367.000000  1.084100e+04\n",
       "mean      4.191513  4.441119e+05\n",
       "std       0.515735  2.927629e+06\n",
       "min       1.000000  0.000000e+00\n",
       "25%       4.000000  3.800000e+01\n",
       "50%       4.300000  2.094000e+03\n",
       "75%       4.500000  5.476800e+04\n",
       "max       5.000000  7.815831e+07"
      ]
     },
     "execution_count": 8,
     "metadata": {},
     "output_type": "execute_result"
    }
   ],
   "source": [
    "data.describe()"
   ]
  },
  {
   "cell_type": "code",
   "execution_count": 9,
   "id": "e59196d2",
   "metadata": {},
   "outputs": [
    {
     "name": "stdout",
     "output_type": "stream",
     "text": [
      "<class 'pandas.core.frame.DataFrame'>\n",
      "RangeIndex: 10841 entries, 0 to 10840\n",
      "Data columns (total 12 columns):\n",
      " #   Column          Non-Null Count  Dtype  \n",
      "---  ------          --------------  -----  \n",
      " 0   Category        10840 non-null  object \n",
      " 1   Rating          9367 non-null   float64\n",
      " 2   Reviews         10841 non-null  int64  \n",
      " 3   Size            10841 non-null  object \n",
      " 4   Installs        10841 non-null  object \n",
      " 5   Type            10840 non-null  object \n",
      " 6   Price           10841 non-null  object \n",
      " 7   Content Rating  10841 non-null  object \n",
      " 8   Genres          10840 non-null  object \n",
      " 9   Last Updated    10841 non-null  object \n",
      " 10  Current Ver     10833 non-null  object \n",
      " 11  Android Ver     10839 non-null  object \n",
      "dtypes: float64(1), int64(1), object(10)\n",
      "memory usage: 1016.5+ KB\n"
     ]
    }
   ],
   "source": [
    "data.info()"
   ]
  },
  {
   "cell_type": "code",
   "execution_count": 10,
   "id": "1606eeec",
   "metadata": {},
   "outputs": [
    {
     "data": {
      "text/plain": [
       "Category             1\n",
       "Rating            1474\n",
       "Reviews              0\n",
       "Size                 0\n",
       "Installs             0\n",
       "Type                 1\n",
       "Price                0\n",
       "Content Rating       0\n",
       "Genres               1\n",
       "Last Updated         0\n",
       "Current Ver          8\n",
       "Android Ver          2\n",
       "dtype: int64"
      ]
     },
     "execution_count": 10,
     "metadata": {},
     "output_type": "execute_result"
    }
   ],
   "source": [
    "data.isnull().sum()"
   ]
  },
  {
   "cell_type": "code",
   "execution_count": 11,
   "id": "7f8a67b0",
   "metadata": {},
   "outputs": [],
   "source": [
    "data['Price'] = data['Price'].apply(lambda x: str(x).replace('$','') if '$' in str(x) else str(x))\n",
    "data['Price'] = data['Price'].apply(lambda x: float(x))\n",
    "data['Reviews'] = pd.to_numeric(data['Reviews'], errors='coerce')"
   ]
  },
  {
   "cell_type": "code",
   "execution_count": 12,
   "id": "55b25d38",
   "metadata": {},
   "outputs": [],
   "source": [
    "data['Installs'] = data['Installs'].apply(lambda x: str(x).replace('+',''))\n",
    "data['Installs'] = data['Installs'].apply(lambda x: str(x).replace(',',''))\n",
    "data['Installs'] = data['Installs'].apply(lambda x: float(x))                                          \n",
    "                                          "
   ]
  },
  {
   "cell_type": "code",
   "execution_count": 13,
   "id": "c4d03d61",
   "metadata": {},
   "outputs": [
    {
     "name": "stdout",
     "output_type": "stream",
     "text": [
      "0        19.0\n",
      "1        14.0\n",
      "2         8.7\n",
      "3        25.0\n",
      "4         2.8\n",
      "         ... \n",
      "10836    53.0\n",
      "10837     3.6\n",
      "10838     9.5\n",
      "10839     NaN\n",
      "10840    19.0\n",
      "Name: Size, Length: 10841, dtype: float64\n"
     ]
    }
   ],
   "source": [
    "#converting size to mb\n",
    "def convert_size(size):\n",
    "    if size == 'Varies with device':\n",
    "        return np.nan\n",
    "    elif size.endswith('M'):\n",
    "        value = float(size[:-1])\n",
    "        return value * 1\n",
    "    elif size.endswith('k'):\n",
    "        value = float(size[:-1])\n",
    "        return value / 1024\n",
    "    else:\n",
    "        return float(size)\n",
    "\n",
    "# Apply the conversion function to the 'Size' column\n",
    "data['Size'] = data['Size'].apply(convert_size)\n",
    "\n",
    "# Print the updated 'Size' column\n",
    "print(data['Size'])"
   ]
  },
  {
   "cell_type": "code",
   "execution_count": 14,
   "id": "e6d2855e",
   "metadata": {},
   "outputs": [],
   "source": [
    "data[\"Content Rating\"].replace(\"Adults only 18+\", \"Mature 17+\", inplace =True)"
   ]
  },
  {
   "cell_type": "code",
   "execution_count": 15,
   "id": "c36ded1d",
   "metadata": {},
   "outputs": [
    {
     "data": {
      "text/plain": [
       "Everyone        8715\n",
       "Teen            1208\n",
       "Mature 17+       502\n",
       "Everyone 10+     414\n",
       "Unrated            2\n",
       "Name: Content Rating, dtype: int64"
      ]
     },
     "execution_count": 15,
     "metadata": {},
     "output_type": "execute_result"
    }
   ],
   "source": [
    "data[\"Content Rating\"].value_counts()"
   ]
  },
  {
   "cell_type": "code",
   "execution_count": 16,
   "id": "c8594cda",
   "metadata": {},
   "outputs": [],
   "source": [
    "null_rating_mask = data['Rating'].isnull()\n",
    "\n",
    "# Step 2: Create a separate dataset containing rows with null values for 'Rating'\n",
    "null_rating_data = data[null_rating_mask]\n",
    "\n",
    "# Step 3: Create a separate dataset containing rows without null values for 'Rating'\n",
    "nonnull_data = data[~null_rating_mask]\n"
   ]
  },
  {
   "cell_type": "code",
   "execution_count": 17,
   "id": "a68ad62e",
   "metadata": {},
   "outputs": [
    {
     "name": "stderr",
     "output_type": "stream",
     "text": [
      "C:\\Users\\silpa\\AppData\\Local\\Temp\\ipykernel_1068\\994478326.py:5: SettingWithCopyWarning: \n",
      "A value is trying to be set on a copy of a slice from a DataFrame\n",
      "\n",
      "See the caveats in the documentation: https://pandas.pydata.org/pandas-docs/stable/user_guide/indexing.html#returning-a-view-versus-a-copy\n",
      "  nonnull_data['Size'].fillna(category_median_size, inplace=True)\n"
     ]
    }
   ],
   "source": [
    "# Calculate the median size for each category\n",
    "category_median_size = nonnull_data.groupby('Category')['Size'].transform('median')\n",
    "\n",
    "# Replace missing 'Size' values with the median size of their respective categories\n",
    "nonnull_data['Size'].fillna(category_median_size, inplace=True)\n"
   ]
  },
  {
   "cell_type": "code",
   "execution_count": 18,
   "id": "560e1502",
   "metadata": {},
   "outputs": [
    {
     "data": {
      "text/plain": [
       "Category          1\n",
       "Rating            0\n",
       "Reviews           0\n",
       "Size              0\n",
       "Installs          0\n",
       "Type              0\n",
       "Price             0\n",
       "Content Rating    0\n",
       "Genres            1\n",
       "Last Updated      0\n",
       "Current Ver       4\n",
       "Android Ver       2\n",
       "dtype: int64"
      ]
     },
     "execution_count": 18,
     "metadata": {},
     "output_type": "execute_result"
    }
   ],
   "source": [
    "nonnull_data.isna().sum()"
   ]
  },
  {
   "cell_type": "code",
   "execution_count": 19,
   "id": "75c2888e",
   "metadata": {},
   "outputs": [
    {
     "name": "stderr",
     "output_type": "stream",
     "text": [
      "C:\\Users\\silpa\\AppData\\Local\\Temp\\ipykernel_1068\\650674121.py:1: SettingWithCopyWarning: \n",
      "A value is trying to be set on a copy of a slice from a DataFrame.\n",
      "Try using .loc[row_indexer,col_indexer] = value instead\n",
      "\n",
      "See the caveats in the documentation: https://pandas.pydata.org/pandas-docs/stable/user_guide/indexing.html#returning-a-view-versus-a-copy\n",
      "  nonnull_data[\"Genres\"] = data[\"Genres\"].str.split(\";\").str[0]\n",
      "C:\\Users\\silpa\\AppData\\Local\\Temp\\ipykernel_1068\\650674121.py:2: SettingWithCopyWarning: \n",
      "A value is trying to be set on a copy of a slice from a DataFrame\n",
      "\n",
      "See the caveats in the documentation: https://pandas.pydata.org/pandas-docs/stable/user_guide/indexing.html#returning-a-view-versus-a-copy\n",
      "  nonnull_data[\"Genres\"].replace(\"Music & Audio\", \"Music \", inplace =True)\n"
     ]
    }
   ],
   "source": [
    "nonnull_data[\"Genres\"] = data[\"Genres\"].str.split(\";\").str[0]\n",
    "nonnull_data[\"Genres\"].replace(\"Music & Audio\", \"Music \", inplace =True)"
   ]
  },
  {
   "cell_type": "code",
   "execution_count": 20,
   "id": "36497630",
   "metadata": {},
   "outputs": [
    {
     "data": {
      "text/plain": [
       "0             Art & Design\n",
       "1             Art & Design\n",
       "2             Art & Design\n",
       "3             Art & Design\n",
       "4             Art & Design\n",
       "               ...        \n",
       "10834            Education\n",
       "10836            Education\n",
       "10837            Education\n",
       "10839    Books & Reference\n",
       "10840            Lifestyle\n",
       "Name: Genres, Length: 9367, dtype: object"
      ]
     },
     "execution_count": 20,
     "metadata": {},
     "output_type": "execute_result"
    }
   ],
   "source": [
    "nonnull_data['Genres'].astype(str)"
   ]
  },
  {
   "cell_type": "code",
   "execution_count": 21,
   "id": "1087069e",
   "metadata": {},
   "outputs": [
    {
     "name": "stderr",
     "output_type": "stream",
     "text": [
      "C:\\Users\\silpa\\AppData\\Local\\Temp\\ipykernel_1068\\3256141679.py:1: SettingWithCopyWarning: \n",
      "A value is trying to be set on a copy of a slice from a DataFrame.\n",
      "Try using .loc[row_indexer,col_indexer] = value instead\n",
      "\n",
      "See the caveats in the documentation: https://pandas.pydata.org/pandas-docs/stable/user_guide/indexing.html#returning-a-view-versus-a-copy\n",
      "  nonnull_data[\"Last Updated\"] = pd.to_datetime(nonnull_data[\"Last Updated\"])\n"
     ]
    }
   ],
   "source": [
    "nonnull_data[\"Last Updated\"] = pd.to_datetime(nonnull_data[\"Last Updated\"])"
   ]
  },
  {
   "cell_type": "code",
   "execution_count": 22,
   "id": "1cf875c7",
   "metadata": {},
   "outputs": [
    {
     "name": "stderr",
     "output_type": "stream",
     "text": [
      "C:\\Users\\silpa\\AppData\\Local\\Temp\\ipykernel_1068\\2249257245.py:1: SettingWithCopyWarning: \n",
      "A value is trying to be set on a copy of a slice from a DataFrame.\n",
      "Try using .loc[row_indexer,col_indexer] = value instead\n",
      "\n",
      "See the caveats in the documentation: https://pandas.pydata.org/pandas-docs/stable/user_guide/indexing.html#returning-a-view-versus-a-copy\n",
      "  nonnull_data['Last Updated'] = pd.to_datetime(nonnull_data['Last Updated'], format='%d-%m-%Y')\n",
      "C:\\Users\\silpa\\AppData\\Local\\Temp\\ipykernel_1068\\2249257245.py:4: SettingWithCopyWarning: \n",
      "A value is trying to be set on a copy of a slice from a DataFrame.\n",
      "Try using .loc[row_indexer,col_indexer] = value instead\n",
      "\n",
      "See the caveats in the documentation: https://pandas.pydata.org/pandas-docs/stable/user_guide/indexing.html#returning-a-view-versus-a-copy\n",
      "  nonnull_data['Last Updated'] = nonnull_data['Last Updated'].dt.year\n"
     ]
    }
   ],
   "source": [
    "nonnull_data['Last Updated'] = pd.to_datetime(nonnull_data['Last Updated'], format='%d-%m-%Y')\n",
    "\n",
    "# Extract the year from the 'date' column and store it in a new column 'year'\n",
    "nonnull_data['Last Updated'] = nonnull_data['Last Updated'].dt.year"
   ]
  },
  {
   "cell_type": "code",
   "execution_count": 23,
   "id": "001c877b",
   "metadata": {},
   "outputs": [
    {
     "data": {
      "text/plain": [
       "Category           object\n",
       "Rating            float64\n",
       "Reviews             int64\n",
       "Size              float64\n",
       "Installs          float64\n",
       "Type               object\n",
       "Price             float64\n",
       "Content Rating     object\n",
       "Genres             object\n",
       "Last Updated        int64\n",
       "Current Ver        object\n",
       "Android Ver        object\n",
       "dtype: object"
      ]
     },
     "execution_count": 23,
     "metadata": {},
     "output_type": "execute_result"
    }
   ],
   "source": [
    "nonnull_data.dtypes"
   ]
  },
  {
   "cell_type": "code",
   "execution_count": 24,
   "id": "a97d98a6",
   "metadata": {},
   "outputs": [
    {
     "data": {
      "text/plain": [
       "Text(0.5, 1.0, 'Scatter Plot: Reviews vs. Rating')"
      ]
     },
     "execution_count": 24,
     "metadata": {},
     "output_type": "execute_result"
    },
    {
     "data": {
      "image/png": "[encoded data removed]",
      "text/plain": [
       "<Figure size 640x480 with 1 Axes>"
      ]
     },
     "metadata": {},
     "output_type": "display_data"
    }
   ],
   "source": [
    "x_data=data['Reviews']\n",
    "y_data=data['Rating']\n",
    "sns.scatterplot(x=x_data,y=y_data)\n",
    "plt.xlabel('Reviews')\n",
    "plt.ylabel('Rating')\n",
    "plt.title('Scatter Plot: Reviews vs. Rating')\n"
   ]
  },
  {
   "cell_type": "code",
   "execution_count": 25,
   "id": "d9d4dff8",
   "metadata": {},
   "outputs": [
    {
     "data": {
      "text/plain": [
       "Text(0.5, 1.0, 'Scatter Plot: Installs vs. Rating')"
      ]
     },
     "execution_count": 25,
     "metadata": {},
     "output_type": "execute_result"
    },
    {
     "data": {
      "image/png": "[encoded data removed]",
      "text/plain": [
       "<Figure size 640x480 with 1 Axes>"
      ]
     },
     "metadata": {},
     "output_type": "display_data"
    }
   ],
   "source": [
    "x_data=data['Installs']\n",
    "y_data=data['Rating']\n",
    "sns.scatterplot(x=x_data,y=y_data)\n",
    "plt.xlabel('Installs')\n",
    "plt.ylabel('Rating')\n",
    "plt.title('Scatter Plot: Installs vs. Rating')"
   ]
  },
  {
   "cell_type": "code",
   "execution_count": 26,
   "id": "670746e0",
   "metadata": {},
   "outputs": [
    {
     "name": "stderr",
     "output_type": "stream",
     "text": [
      "C:\\Users\\silpa\\AppData\\Local\\Temp\\ipykernel_1068\\2065409323.py:4: FutureWarning: The default value of numeric_only in DataFrame.corr is deprecated. In a future version, it will default to False. Select only valid columns or specify the value of numeric_only to silence this warning.\n",
      "  correlation_matrix = data[numeric_features].corr()\n"
     ]
    },
    {
     "data": {
      "image/png": "[encoded data removed]",
      "text/plain": [
       "<Figure size 1000x800 with 2 Axes>"
      ]
     },
     "metadata": {},
     "output_type": "display_data"
    }
   ],
   "source": [
    "numeric_features = ['Rating', 'Reviews', 'Size', 'Installs', 'Price','Last Updated']\n",
    "\n",
    "# Create a correlation matrix for the selected numeric features\n",
    "correlation_matrix = data[numeric_features].corr()\n",
    "\n",
    "# Create the heatmap\n",
    "plt.figure(figsize=(10, 8))\n",
    "sns.heatmap(correlation_matrix, annot=True, cmap='coolwarm', fmt='.2f')\n",
    "plt.title('Correlation Heatmap of Numeric Features')\n",
    "plt.show()"
   ]
  },
  {
   "cell_type": "code",
   "execution_count": null,
   "id": "dbbf0c6f",
   "metadata": {},
   "outputs": [],
   "source": []
  },
  {
   "cell_type": "code",
   "execution_count": 27,
   "id": "b40d221d",
   "metadata": {},
   "outputs": [
    {
     "data": {
      "image/png": "[encoded data removed]",
      "text/plain": [
       "<Figure size 640x480 with 1 Axes>"
      ]
     },
     "metadata": {},
     "output_type": "display_data"
    },
    {
     "data": {
      "image/png": "[encoded data removed]",
      "text/plain": [
       "<Figure size 640x480 with 1 Axes>"
      ]
     },
     "metadata": {},
     "output_type": "display_data"
    },
    {
     "data": {
      "image/png": "[encoded data removed]",
      "text/plain": [
       "<Figure size 640x480 with 1 Axes>"
      ]
     },
     "metadata": {},
     "output_type": "display_data"
    },
    {
     "data": {
      "image/png": "[encoded data removed]",
      "text/plain": [
       "<Figure size 640x480 with 1 Axes>"
      ]
     },
     "metadata": {},
     "output_type": "display_data"
    }
   ],
   "source": [
    "# Outlier Detection\n",
    "num_col = ['Reviews','Size','Installs','Price'] \n",
    "for i in num_col:\n",
    "    plt.boxplot(data[i])\n",
    "    plt.title(i)\n",
    "    plt.show()"
   ]
  },
  {
   "cell_type": "code",
   "execution_count": 28,
   "id": "e515eae4",
   "metadata": {},
   "outputs": [
    {
     "data": {
      "text/plain": [
       "FAMILY                 1747\n",
       "GAME                   1097\n",
       "TOOLS                   734\n",
       "PRODUCTIVITY            351\n",
       "MEDICAL                 350\n",
       "COMMUNICATION           328\n",
       "FINANCE                 323\n",
       "SPORTS                  319\n",
       "PHOTOGRAPHY             317\n",
       "PERSONALIZATION         314\n",
       "LIFESTYLE               314\n",
       "BUSINESS                303\n",
       "HEALTH_AND_FITNESS      297\n",
       "SOCIAL                  259\n",
       "SHOPPING                238\n",
       "NEWS_AND_MAGAZINES      233\n",
       "TRAVEL_AND_LOCAL        226\n",
       "DATING                  195\n",
       "BOOKS_AND_REFERENCE     178\n",
       "VIDEO_PLAYERS           160\n",
       "EDUCATION               155\n",
       "ENTERTAINMENT           149\n",
       "MAPS_AND_NAVIGATION     124\n",
       "FOOD_AND_DRINK          109\n",
       "HOUSE_AND_HOME           76\n",
       "WEATHER                  75\n",
       "AUTO_AND_VEHICLES        73\n",
       "LIBRARIES_AND_DEMO       65\n",
       "ART_AND_DESIGN           62\n",
       "COMICS                   58\n",
       "PARENTING                50\n",
       "EVENTS                   45\n",
       "BEAUTY                   42\n",
       "Name: Category, dtype: int64"
      ]
     },
     "execution_count": 28,
     "metadata": {},
     "output_type": "execute_result"
    }
   ],
   "source": [
    "nonnull_data['Category'].value_counts()"
   ]
  },
  {
   "cell_type": "code",
   "execution_count": 29,
   "id": "ae0b3c35",
   "metadata": {},
   "outputs": [],
   "source": [
    "# Step 1: Compute the value counts of each category in the 'Category' column\n",
    "category_counts = nonnull_data['Category'].value_counts()\n",
    "\n",
    "# Step 2: Select the top 11 most frequently occurring categories\n",
    "top_frequent_categories = category_counts.nlargest(11).index\n",
    "\n",
    "# Step 3: Replace all categories not in the top 11 with \"Other\"\n",
    "nonnull_data.loc[~nonnull_data['Category'].isin(top_frequent_categories), 'Category'] = \"Other\""
   ]
  },
  {
   "cell_type": "code",
   "execution_count": 30,
   "id": "dca9cfa0",
   "metadata": {},
   "outputs": [
    {
     "data": {
      "text/plain": [
       "Other              3173\n",
       "FAMILY             1747\n",
       "GAME               1097\n",
       "TOOLS               734\n",
       "PRODUCTIVITY        351\n",
       "MEDICAL             350\n",
       "COMMUNICATION       328\n",
       "FINANCE             323\n",
       "SPORTS              319\n",
       "PHOTOGRAPHY         317\n",
       "LIFESTYLE           314\n",
       "PERSONALIZATION     314\n",
       "Name: Category, dtype: int64"
      ]
     },
     "execution_count": 30,
     "metadata": {},
     "output_type": "execute_result"
    }
   ],
   "source": [
    "nonnull_data['Category'].value_counts()"
   ]
  },
  {
   "cell_type": "markdown",
   "id": "c8391ad8",
   "metadata": {},
   "source": [
    "OneHot Encoding "
   ]
  },
  {
   "cell_type": "code",
   "execution_count": 31,
   "id": "a6d3fda8",
   "metadata": {},
   "outputs": [
    {
     "name": "stdout",
     "output_type": "stream",
     "text": [
      "       Rating  Reviews   Size    Installs  Price Content Rating  \\\n",
      "0         4.1      159  19.00     10000.0    0.0       Everyone   \n",
      "1         3.9      967  14.00    500000.0    0.0       Everyone   \n",
      "2         4.7    87510   8.70   5000000.0    0.0       Everyone   \n",
      "3         4.5   215644  25.00  50000000.0    0.0           Teen   \n",
      "4         4.3      967   2.80    100000.0    0.0       Everyone   \n",
      "...       ...      ...    ...         ...    ...            ...   \n",
      "10834     4.0        7   2.60       500.0    0.0       Everyone   \n",
      "10836     4.5       38  53.00      5000.0    0.0       Everyone   \n",
      "10837     5.0        4   3.60       100.0    0.0       Everyone   \n",
      "10839     4.5      114   7.15      1000.0    0.0     Mature 17+   \n",
      "10840     4.5   398307  19.00  10000000.0    0.0       Everyone   \n",
      "\n",
      "                  Genres  Last Updated         Current Ver  \\\n",
      "0           Art & Design          2018               1.0.0   \n",
      "1           Art & Design          2018               2.0.0   \n",
      "2           Art & Design          2018               1.2.4   \n",
      "3           Art & Design          2018  Varies with device   \n",
      "4           Art & Design          2018                 1.1   \n",
      "...                  ...           ...                 ...   \n",
      "10834          Education          2017               1.0.0   \n",
      "10836          Education          2017                1.48   \n",
      "10837          Education          2018                   1   \n",
      "10839  Books & Reference          2015  Varies with device   \n",
      "10840          Lifestyle          2018  Varies with device   \n",
      "\n",
      "              Android Ver  ...  Category_GAME  Category_LIFESTYLE  \\\n",
      "0            4.0.3 and up  ...            0.0                 0.0   \n",
      "1            4.0.3 and up  ...            0.0                 0.0   \n",
      "2            4.0.3 and up  ...            0.0                 0.0   \n",
      "3              4.2 and up  ...            0.0                 0.0   \n",
      "4              4.4 and up  ...            0.0                 0.0   \n",
      "...                   ...  ...            ...                 ...   \n",
      "10834          4.1 and up  ...            0.0                 0.0   \n",
      "10836          4.1 and up  ...            0.0                 0.0   \n",
      "10837          4.1 and up  ...            0.0                 0.0   \n",
      "10839  Varies with device  ...            0.0                 0.0   \n",
      "10840  Varies with device  ...            0.0                 1.0   \n",
      "\n",
      "       Category_MEDICAL  Category_Other  Category_PERSONALIZATION  \\\n",
      "0                   0.0             1.0                       0.0   \n",
      "1                   0.0             1.0                       0.0   \n",
      "2                   0.0             1.0                       0.0   \n",
      "3                   0.0             1.0                       0.0   \n",
      "4                   0.0             1.0                       0.0   \n",
      "...                 ...             ...                       ...   \n",
      "10834               0.0             0.0                       0.0   \n",
      "10836               0.0             0.0                       0.0   \n",
      "10837               0.0             0.0                       0.0   \n",
      "10839               0.0             1.0                       0.0   \n",
      "10840               0.0             0.0                       0.0   \n",
      "\n",
      "       Category_PHOTOGRAPHY  Category_PRODUCTIVITY  Category_SPORTS  \\\n",
      "0                       0.0                    0.0              0.0   \n",
      "1                       0.0                    0.0              0.0   \n",
      "2                       0.0                    0.0              0.0   \n",
      "3                       0.0                    0.0              0.0   \n",
      "4                       0.0                    0.0              0.0   \n",
      "...                     ...                    ...              ...   \n",
      "10834                   0.0                    0.0              0.0   \n",
      "10836                   0.0                    0.0              0.0   \n",
      "10837                   0.0                    0.0              0.0   \n",
      "10839                   0.0                    0.0              0.0   \n",
      "10840                   0.0                    0.0              0.0   \n",
      "\n",
      "       Category_TOOLS  Type_Paid  \n",
      "0                 0.0        0.0  \n",
      "1                 0.0        0.0  \n",
      "2                 0.0        0.0  \n",
      "3                 0.0        0.0  \n",
      "4                 0.0        0.0  \n",
      "...               ...        ...  \n",
      "10834             0.0        0.0  \n",
      "10836             0.0        0.0  \n",
      "10837             0.0        0.0  \n",
      "10839             0.0        0.0  \n",
      "10840             0.0        0.0  \n",
      "\n",
      "[9367 rows x 22 columns]\n"
     ]
    },
    {
     "name": "stderr",
     "output_type": "stream",
     "text": [
      "C:\\Users\\silpa\\AppData\\Local\\Temp\\ipykernel_1068\\3811269294.py:3: SettingWithCopyWarning: \n",
      "A value is trying to be set on a copy of a slice from a DataFrame.\n",
      "Try using .loc[row_indexer,col_indexer] = value instead\n",
      "\n",
      "See the caveats in the documentation: https://pandas.pydata.org/pandas-docs/stable/user_guide/indexing.html#returning-a-view-versus-a-copy\n",
      "  nonnull_data['Category'] = nonnull_data['Category'].astype(str)\n",
      "C:\\Users\\silpa\\AppData\\Local\\Temp\\ipykernel_1068\\3811269294.py:4: SettingWithCopyWarning: \n",
      "A value is trying to be set on a copy of a slice from a DataFrame.\n",
      "Try using .loc[row_indexer,col_indexer] = value instead\n",
      "\n",
      "See the caveats in the documentation: https://pandas.pydata.org/pandas-docs/stable/user_guide/indexing.html#returning-a-view-versus-a-copy\n",
      "  nonnull_data['Type'] = nonnull_data['Type'].astype(str)\n",
      "C:\\Users\\silpa\\anaconda3\\lib\\site-packages\\sklearn\\preprocessing\\_encoders.py:828: FutureWarning: `sparse` was renamed to `sparse_output` in version 1.2 and will be removed in 1.4. `sparse_output` is ignored unless you leave `sparse` to its default value.\n",
      "  warnings.warn(\n"
     ]
    }
   ],
   "source": [
    "from sklearn.preprocessing import OneHotEncoder\n",
    "# Convert Categorical Columns to String Type (Optional, if not done already)\n",
    "nonnull_data['Category'] = nonnull_data['Category'].astype(str)\n",
    "nonnull_data['Type'] = nonnull_data['Type'].astype(str)\n",
    "\n",
    "# Initialize the OneHotEncoder\n",
    "ohe = OneHotEncoder(drop='first', sparse=False)\n",
    "\n",
    "# Fit and Transform the 'Category' and 'Type' columns\n",
    "encoded_columns = ohe.fit_transform(nonnull_data[['Category', 'Type']])\n",
    "\n",
    "# Get unique category names after one-hot encoding\n",
    "category_names = ohe.get_feature_names_out(['Category', 'Type'])\n",
    "\n",
    "# Create a DataFrame with the encoded columns and feature names\n",
    "encoded_df = pd.DataFrame(encoded_columns, columns=category_names, index=nonnull_data.index)\n",
    "\n",
    "# Concatenate the encoded DataFrame with the original DataFrame (excluding 'Category' and 'Type' columns)\n",
    "nonnull_data_encoded = pd.concat([nonnull_data.drop(['Category', 'Type'], axis=1), encoded_df], axis=1)\n",
    "\n",
    "# Print the encoded data\n",
    "print(nonnull_data_encoded)"
   ]
  },
  {
   "cell_type": "code",
   "execution_count": 32,
   "id": "6afc0b48",
   "metadata": {},
   "outputs": [
    {
     "data": {
      "text/html": [
       "<div>\n",
       "<style scoped>\n",
       "    .dataframe tbody tr th:only-of-type {\n",
       "        vertical-align: middle;\n",
       "    }\n",
       "\n",
       "    .dataframe tbody tr th {\n",
       "        vertical-align: top;\n",
       "    }\n",
       "\n",
       "    .dataframe thead th {\n",
       "        text-align: right;\n",
       "    }\n",
       "</style>\n",
       "<table border=\"1\" class=\"dataframe\">\n",
       "  <thead>\n",
       "    <tr style=\"text-align: right;\">\n",
       "      <th></th>\n",
       "      <th>Rating</th>\n",
       "      <th>Reviews</th>\n",
       "      <th>Size</th>\n",
       "      <th>Installs</th>\n",
       "      <th>Price</th>\n",
       "      <th>Content Rating</th>\n",
       "      <th>Genres</th>\n",
       "      <th>Last Updated</th>\n",
       "      <th>Current Ver</th>\n",
       "      <th>Android Ver</th>\n",
       "      <th>...</th>\n",
       "      <th>Category_GAME</th>\n",
       "      <th>Category_LIFESTYLE</th>\n",
       "      <th>Category_MEDICAL</th>\n",
       "      <th>Category_Other</th>\n",
       "      <th>Category_PERSONALIZATION</th>\n",
       "      <th>Category_PHOTOGRAPHY</th>\n",
       "      <th>Category_PRODUCTIVITY</th>\n",
       "      <th>Category_SPORTS</th>\n",
       "      <th>Category_TOOLS</th>\n",
       "      <th>Type_Paid</th>\n",
       "    </tr>\n",
       "  </thead>\n",
       "  <tbody>\n",
       "    <tr>\n",
       "      <th>0</th>\n",
       "      <td>4.1</td>\n",
       "      <td>159</td>\n",
       "      <td>19.0</td>\n",
       "      <td>10000.0</td>\n",
       "      <td>0.0</td>\n",
       "      <td>Everyone</td>\n",
       "      <td>Art &amp; Design</td>\n",
       "      <td>2018</td>\n",
       "      <td>1.0.0</td>\n",
       "      <td>4.0.3 and up</td>\n",
       "      <td>...</td>\n",
       "      <td>0.0</td>\n",
       "      <td>0.0</td>\n",
       "      <td>0.0</td>\n",
       "      <td>1.0</td>\n",
       "      <td>0.0</td>\n",
       "      <td>0.0</td>\n",
       "      <td>0.0</td>\n",
       "      <td>0.0</td>\n",
       "      <td>0.0</td>\n",
       "      <td>0.0</td>\n",
       "    </tr>\n",
       "    <tr>\n",
       "      <th>1</th>\n",
       "      <td>3.9</td>\n",
       "      <td>967</td>\n",
       "      <td>14.0</td>\n",
       "      <td>500000.0</td>\n",
       "      <td>0.0</td>\n",
       "      <td>Everyone</td>\n",
       "      <td>Art &amp; Design</td>\n",
       "      <td>2018</td>\n",
       "      <td>2.0.0</td>\n",
       "      <td>4.0.3 and up</td>\n",
       "      <td>...</td>\n",
       "      <td>0.0</td>\n",
       "      <td>0.0</td>\n",
       "      <td>0.0</td>\n",
       "      <td>1.0</td>\n",
       "      <td>0.0</td>\n",
       "      <td>0.0</td>\n",
       "      <td>0.0</td>\n",
       "      <td>0.0</td>\n",
       "      <td>0.0</td>\n",
       "      <td>0.0</td>\n",
       "    </tr>\n",
       "    <tr>\n",
       "      <th>2</th>\n",
       "      <td>4.7</td>\n",
       "      <td>87510</td>\n",
       "      <td>8.7</td>\n",
       "      <td>5000000.0</td>\n",
       "      <td>0.0</td>\n",
       "      <td>Everyone</td>\n",
       "      <td>Art &amp; Design</td>\n",
       "      <td>2018</td>\n",
       "      <td>1.2.4</td>\n",
       "      <td>4.0.3 and up</td>\n",
       "      <td>...</td>\n",
       "      <td>0.0</td>\n",
       "      <td>0.0</td>\n",
       "      <td>0.0</td>\n",
       "      <td>1.0</td>\n",
       "      <td>0.0</td>\n",
       "      <td>0.0</td>\n",
       "      <td>0.0</td>\n",
       "      <td>0.0</td>\n",
       "      <td>0.0</td>\n",
       "      <td>0.0</td>\n",
       "    </tr>\n",
       "    <tr>\n",
       "      <th>3</th>\n",
       "      <td>4.5</td>\n",
       "      <td>215644</td>\n",
       "      <td>25.0</td>\n",
       "      <td>50000000.0</td>\n",
       "      <td>0.0</td>\n",
       "      <td>Teen</td>\n",
       "      <td>Art &amp; Design</td>\n",
       "      <td>2018</td>\n",
       "      <td>Varies with device</td>\n",
       "      <td>4.2 and up</td>\n",
       "      <td>...</td>\n",
       "      <td>0.0</td>\n",
       "      <td>0.0</td>\n",
       "      <td>0.0</td>\n",
       "      <td>1.0</td>\n",
       "      <td>0.0</td>\n",
       "      <td>0.0</td>\n",
       "      <td>0.0</td>\n",
       "      <td>0.0</td>\n",
       "      <td>0.0</td>\n",
       "      <td>0.0</td>\n",
       "    </tr>\n",
       "    <tr>\n",
       "      <th>4</th>\n",
       "      <td>4.3</td>\n",
       "      <td>967</td>\n",
       "      <td>2.8</td>\n",
       "      <td>100000.0</td>\n",
       "      <td>0.0</td>\n",
       "      <td>Everyone</td>\n",
       "      <td>Art &amp; Design</td>\n",
       "      <td>2018</td>\n",
       "      <td>1.1</td>\n",
       "      <td>4.4 and up</td>\n",
       "      <td>...</td>\n",
       "      <td>0.0</td>\n",
       "      <td>0.0</td>\n",
       "      <td>0.0</td>\n",
       "      <td>1.0</td>\n",
       "      <td>0.0</td>\n",
       "      <td>0.0</td>\n",
       "      <td>0.0</td>\n",
       "      <td>0.0</td>\n",
       "      <td>0.0</td>\n",
       "      <td>0.0</td>\n",
       "    </tr>\n",
       "  </tbody>\n",
       "</table>\n",
       "<p>5 rows × 22 columns</p>\n",
       "</div>"
      ],
      "text/plain": [
       "   Rating  Reviews  Size    Installs  Price Content Rating        Genres  \\\n",
       "0     4.1      159  19.0     10000.0    0.0       Everyone  Art & Design   \n",
       "1     3.9      967  14.0    500000.0    0.0       Everyone  Art & Design   \n",
       "2     4.7    87510   8.7   5000000.0    0.0       Everyone  Art & Design   \n",
       "3     4.5   215644  25.0  50000000.0    0.0           Teen  Art & Design   \n",
       "4     4.3      967   2.8    100000.0    0.0       Everyone  Art & Design   \n",
       "\n",
       "   Last Updated         Current Ver   Android Ver  ...  Category_GAME  \\\n",
       "0          2018               1.0.0  4.0.3 and up  ...            0.0   \n",
       "1          2018               2.0.0  4.0.3 and up  ...            0.0   \n",
       "2          2018               1.2.4  4.0.3 and up  ...            0.0   \n",
       "3          2018  Varies with device    4.2 and up  ...            0.0   \n",
       "4          2018                 1.1    4.4 and up  ...            0.0   \n",
       "\n",
       "   Category_LIFESTYLE  Category_MEDICAL  Category_Other  \\\n",
       "0                 0.0               0.0             1.0   \n",
       "1                 0.0               0.0             1.0   \n",
       "2                 0.0               0.0             1.0   \n",
       "3                 0.0               0.0             1.0   \n",
       "4                 0.0               0.0             1.0   \n",
       "\n",
       "   Category_PERSONALIZATION  Category_PHOTOGRAPHY  Category_PRODUCTIVITY  \\\n",
       "0                       0.0                   0.0                    0.0   \n",
       "1                       0.0                   0.0                    0.0   \n",
       "2                       0.0                   0.0                    0.0   \n",
       "3                       0.0                   0.0                    0.0   \n",
       "4                       0.0                   0.0                    0.0   \n",
       "\n",
       "   Category_SPORTS  Category_TOOLS  Type_Paid  \n",
       "0              0.0             0.0        0.0  \n",
       "1              0.0             0.0        0.0  \n",
       "2              0.0             0.0        0.0  \n",
       "3              0.0             0.0        0.0  \n",
       "4              0.0             0.0        0.0  \n",
       "\n",
       "[5 rows x 22 columns]"
      ]
     },
     "execution_count": 32,
     "metadata": {},
     "output_type": "execute_result"
    }
   ],
   "source": [
    "nonnull_data_encoded.head()"
   ]
  },
  {
   "cell_type": "markdown",
   "id": "0c862ee0",
   "metadata": {},
   "source": [
    "Label Encoding"
   ]
  },
  {
   "cell_type": "code",
   "execution_count": 33,
   "id": "6083ea14",
   "metadata": {},
   "outputs": [],
   "source": [
    "from sklearn.preprocessing import LabelEncoder\n",
    "le = LabelEncoder()\n",
    "nonnull_data_encoded['Last Updated'] = le.fit_transform(nonnull_data_encoded['Last Updated'])"
   ]
  },
  {
   "cell_type": "code",
   "execution_count": 34,
   "id": "a5609d8c",
   "metadata": {},
   "outputs": [],
   "source": [
    "#Robust scaling\n",
    "from sklearn.preprocessing import RobustScaler"
   ]
  },
  {
   "cell_type": "markdown",
   "id": "e164c9fe",
   "metadata": {},
   "source": [
    "Scaling"
   ]
  },
  {
   "cell_type": "code",
   "execution_count": 35,
   "id": "cb1bf8b7",
   "metadata": {},
   "outputs": [],
   "source": [
    "# Initialize the RobustScaler\n",
    "scaler = RobustScaler()\n",
    "columns_to_scale = [ 'Size','Reviews','Installs']\n",
    "\n",
    "# Fit and transform the selected columns\n",
    "nonnull_data_encoded[columns_to_scale] = scaler.fit_transform(nonnull_data_encoded[columns_to_scale])"
   ]
  },
  {
   "cell_type": "code",
   "execution_count": 36,
   "id": "06cb93a1",
   "metadata": {},
   "outputs": [],
   "source": [
    "columns_to_drop = ['Price', 'Genres', 'Content Rating', 'Current Ver', 'Android Ver']\n",
    "nonnull_data_encoded.drop(columns=columns_to_drop, axis=1, inplace=True)"
   ]
  },
  {
   "cell_type": "code",
   "execution_count": 37,
   "id": "0347d446",
   "metadata": {},
   "outputs": [],
   "source": [
    "#splitting data to feature and target\n",
    "X = nonnull_data_encoded.drop('Rating',axis=1)\n",
    "y = nonnull_data_encoded['Rating']"
   ]
  },
  {
   "cell_type": "code",
   "execution_count": 38,
   "id": "9a74396e",
   "metadata": {},
   "outputs": [],
   "source": [
    "from sklearn.model_selection import train_test_split\n",
    "X_train,X_test,y_train,y_test = train_test_split(X,y,test_size=.25,random_state=42)"
   ]
  },
  {
   "cell_type": "markdown",
   "id": "48190170",
   "metadata": {},
   "source": [
    "Linear Regression "
   ]
  },
  {
   "cell_type": "code",
   "execution_count": 39,
   "id": "52e9b45c",
   "metadata": {},
   "outputs": [],
   "source": [
    "from sklearn.linear_model import LinearRegression\n",
    "lr=LinearRegression()\n",
    "model=lr.fit(X_train,y_train)\n",
    "y_pred=model.predict(X_test)"
   ]
  },
  {
   "cell_type": "code",
   "execution_count": 40,
   "id": "fdcce471",
   "metadata": {},
   "outputs": [],
   "source": [
    "from sklearn.metrics import mean_squared_error,r2_score"
   ]
  },
  {
   "cell_type": "code",
   "execution_count": 41,
   "id": "922c6689",
   "metadata": {},
   "outputs": [
    {
     "name": "stdout",
     "output_type": "stream",
     "text": [
      "0.24234660195157187\n",
      "0.028291425535790227\n"
     ]
    }
   ],
   "source": [
    "print(mean_squared_error(y_test, y_pred))\n",
    "print(r2_score(y_test, y_pred))"
   ]
  },
  {
   "cell_type": "markdown",
   "id": "471cc52d",
   "metadata": {},
   "source": [
    "Lasso"
   ]
  },
  {
   "cell_type": "code",
   "execution_count": 42,
   "id": "ffb63695",
   "metadata": {},
   "outputs": [],
   "source": [
    "import pandas as pd\n",
    "from sklearn.linear_model import Lasso\n",
    "from sklearn.model_selection import train_test_split\n",
    "from sklearn.metrics import mean_squared_error\n",
    "\n",
    "\n",
    "# Split the dataset into features (X) and target variable (y)\n",
    "X = nonnull_data_encoded[[\"Reviews\", \"Size\", \"Installs\", \"Type_Paid\", \"Last Updated\", \"Category_GAME\", \"Category_LIFESTYLE\", \"Category_MEDICAL\", \"Category_Other\", \"Category_PERSONALIZATION\", \"Category_PHOTOGRAPHY\", \"Category_PRODUCTIVITY\", \"Category_SPORTS\", \"Category_TOOLS\"]]  # Input \n",
    "y = nonnull_data_encoded[\"Rating\"]   # Target variable \n",
    "\n",
    "# Split the dataset into training and testing sets\n",
    "X_train, X_test, y_train, y_test = train_test_split(X, y, test_size=0.2, random_state=42)\n",
    "\n",
    "# Create and fit the Lasso regression model\n",
    "lasso_reg = Lasso(alpha=0.1)  # Set the regularization parameter (alpha)\n",
    "lasso_reg.fit(X_train, y_train)\n",
    "\n",
    "# Make predictions using the Lasso regression model\n",
    "y_pred = lasso_reg.predict(X_test)\n",
    "\n",
    "# Calculate the mean squared error (MSE)\n",
    "lasso_mse = mean_squared_error(y_test, y_pred)\n"
   ]
  },
  {
   "cell_type": "code",
   "execution_count": 43,
   "id": "1421ad6f",
   "metadata": {},
   "outputs": [
    {
     "name": "stdout",
     "output_type": "stream",
     "text": [
      "Predicted Rating:\n",
      "[4.18088022 4.18088814 4.18088132 ... 4.18169861 4.18088765 4.18097021]\n",
      "Mean Squared Error (MSE): 0.24628490547483686\n"
     ]
    }
   ],
   "source": [
    "print(\"Predicted Rating:\")\n",
    "print(y_pred)\n",
    "\n",
    "print(\"Mean Squared Error (MSE):\", lasso_mse)\n"
   ]
  },
  {
   "cell_type": "code",
   "execution_count": 44,
   "id": "cd43cb84",
   "metadata": {},
   "outputs": [
    {
     "name": "stdout",
     "output_type": "stream",
     "text": [
      "R-squared: 0.0010471716630651162\n",
      "Mean Absolute Error (MAE): 0.35658438627677397\n"
     ]
    }
   ],
   "source": [
    "from sklearn.metrics import r2_score, mean_absolute_error\n",
    "\n",
    "# Calculate R-squared\n",
    "lasso_r2 = r2_score(y_test, y_pred)\n",
    "\n",
    "# Calculate mean absolute error (MAE)\n",
    "lasso_mae = mean_absolute_error(y_test, y_pred)\n",
    "\n",
    "# Print R-squared and MAE\n",
    "print(\"R-squared:\", lasso_r2)\n",
    "print(\"Mean Absolute Error (MAE):\", lasso_mae)\n"
   ]
  },
  {
   "cell_type": "markdown",
   "id": "c63d285f",
   "metadata": {},
   "source": [
    "RandomForest Regressor"
   ]
  },
  {
   "cell_type": "code",
   "execution_count": 45,
   "id": "3ae9fbbc",
   "metadata": {},
   "outputs": [],
   "source": [
    "from sklearn.ensemble import RandomForestRegressor\n",
    "from sklearn.metrics import mean_squared_error, mean_absolute_error, r2_score\n"
   ]
  },
  {
   "cell_type": "code",
   "execution_count": 46,
   "id": "c6065350",
   "metadata": {},
   "outputs": [
    {
     "name": "stdout",
     "output_type": "stream",
     "text": [
      "Mean Squared Error (MSE): 0.22717148896537442\n",
      "Root Mean Squared Error (RMSE): 0.4766251031632455\n",
      "Mean Absolute Error (MAE): 0.3156075015669732\n",
      "R-squared (R2): 0.07857283830713857\n"
     ]
    }
   ],
   "source": [
    "# Create a Random Forest Regressor model\n",
    "rf_regressor = RandomForestRegressor(n_estimators=100, random_state=42)\n",
    "\n",
    "# Train the model on the training data\n",
    "rf_regressor.fit(X_train, y_train)\n",
    "\n",
    "# Predict on the test data\n",
    "y_pred = rf_regressor.predict(X_test)\n",
    "\n",
    "# Calculate evaluation metrics\n",
    "mse = mean_squared_error(y_test, y_pred)\n",
    "rmse = mean_squared_error(y_test, y_pred, squared=False)\n",
    "mae = mean_absolute_error(y_test, y_pred)\n",
    "r2 = r2_score(y_test, y_pred)\n",
    "\n",
    "# Print the evaluation metrics\n",
    "print(\"Mean Squared Error (MSE):\", mse)\n",
    "print(\"Root Mean Squared Error (RMSE):\", rmse)\n",
    "print(\"Mean Absolute Error (MAE):\", mae)\n",
    "print(\"R-squared (R2):\", r2)\n"
   ]
  },
  {
   "cell_type": "code",
   "execution_count": 47,
   "id": "b943684f",
   "metadata": {},
   "outputs": [],
   "source": [
    "import pickle"
   ]
  },
  {
   "cell_type": "code",
   "execution_count": 48,
   "id": "45284acd",
   "metadata": {},
   "outputs": [
    {
     "data": {
      "text/plain": [
       "Rating                      float64\n",
       "Reviews                     float64\n",
       "Size                        float64\n",
       "Installs                    float64\n",
       "Last Updated                  int64\n",
       "Category_FAMILY             float64\n",
       "Category_FINANCE            float64\n",
       "Category_GAME               float64\n",
       "Category_LIFESTYLE          float64\n",
       "Category_MEDICAL            float64\n",
       "Category_Other              float64\n",
       "Category_PERSONALIZATION    float64\n",
       "Category_PHOTOGRAPHY        float64\n",
       "Category_PRODUCTIVITY       float64\n",
       "Category_SPORTS             float64\n",
       "Category_TOOLS              float64\n",
       "Type_Paid                   float64\n",
       "dtype: object"
      ]
     },
     "execution_count": 48,
     "metadata": {},
     "output_type": "execute_result"
    }
   ],
   "source": [
    "nonnull_data_encoded.dtypes"
   ]
  },
  {
   "cell_type": "code",
   "execution_count": 49,
   "id": "6f6431be",
   "metadata": {},
   "outputs": [
    {
     "data": {
      "text/plain": [
       "Other              3173\n",
       "FAMILY             1747\n",
       "GAME               1097\n",
       "TOOLS               734\n",
       "PRODUCTIVITY        351\n",
       "MEDICAL             350\n",
       "COMMUNICATION       328\n",
       "FINANCE             323\n",
       "SPORTS              319\n",
       "PHOTOGRAPHY         317\n",
       "LIFESTYLE           314\n",
       "PERSONALIZATION     314\n",
       "Name: Category, dtype: int64"
      ]
     },
     "execution_count": 49,
     "metadata": {},
     "output_type": "execute_result"
    }
   ],
   "source": [
    "nonnull_data['Category'].value_counts()"
   ]
  }
 ],
 "metadata": {
  "kernelspec": {
   "display_name": "Python 3 (ipykernel)",
   "language": "python",
   "name": "python3"
  },
  "language_info": {
   "codemirror_mode": {
    "name": "ipython",
    "version": 3
   },
   "file_extension": ".py",
   "mimetype": "text/x-python",
   "name": "python",
   "nbconvert_exporter": "python",
   "pygments_lexer": "ipython3",
   "version": "3.10.9"
  }
 },
 "nbformat": 4,
 "nbformat_minor": 5
}
